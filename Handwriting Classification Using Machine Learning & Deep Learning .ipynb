{
 "cells": [
  {
   "cell_type": "code",
   "execution_count": 1,
   "id": "e245ae93",
   "metadata": {},
   "outputs": [],
   "source": [
    "import pandas as pd \n",
    "import numpy as np \n",
    "import cv2\n",
    "import os\n",
    "import matplotlib.pyplot as plt\n",
    "\n",
    "from sklearn.model_selection import train_test_split\n",
    "from sklearn.metrics import accuracy_score\n",
    "from keras.preprocessing.image import ImageDataGenerator\n",
    "\n",
    "import random \n",
    "import imutils\n",
    "import random\n",
    "import seaborn as sns\n",
    "import tensorflow as tf\n",
    "\n",
    "from keras import callbacks\n",
    "from sklearn.preprocessing import LabelBinarizer\n",
    "from keras.utils import np_utils\n",
    "from keras.models import Sequential\n",
    "from keras import optimizers\n",
    "from sklearn.preprocessing import LabelBinarizer\n",
    "from keras import backend as K\n",
    "from keras.layers import Dense, Activation, Flatten, Dense,MaxPooling2D, Dropout\n",
    "from keras.layers import Conv2D, MaxPooling2D, BatchNormalization"
   ]
  },
  {
   "cell_type": "code",
   "execution_count": 2,
   "id": "03308aef",
   "metadata": {},
   "outputs": [],
   "source": [
    "dir = os.getcwd() + \"/archive/Train/\"\n",
    "train_data = []\n",
    "img_size = 32\n",
    "non_chars = [\"#\",\"$\",\"&\",\"@\"]\n",
    "for i in os.listdir(dir):\n",
    "    if i in non_chars:\n",
    "        continue\n",
    "    count = 0\n",
    "    sub_directory = os.path.join(dir,i)\n",
    "    for j in os.listdir(sub_directory):\n",
    "        count+=1\n",
    "        if count > 4000:\n",
    "            break\n",
    "        img = cv2.imread(os.path.join(sub_directory,j),0)\n",
    "        # img = cv2.resize(img,(img_size,img_size))\n",
    "        train_data.append([img,i[-1]])"
   ]
  },
  {
   "cell_type": "code",
   "execution_count": 3,
   "id": "26ced564",
   "metadata": {},
   "outputs": [],
   "source": [
    "train_X = []\n",
    "train_Y = []\n",
    "for features,label in train_data:\n",
    "    train_X.append(features)\n",
    "    train_Y.append(label)"
   ]
  },
  {
   "cell_type": "code",
   "execution_count": 4,
   "id": "ff4f0b00",
   "metadata": {},
   "outputs": [
    {
     "data": {
      "text/plain": [
       "140000"
      ]
     },
     "execution_count": 4,
     "metadata": {},
     "output_type": "execute_result"
    }
   ],
   "source": [
    "len(train_Y)"
   ]
  },
  {
   "cell_type": "code",
   "execution_count": 5,
   "id": "4da7d218",
   "metadata": {},
   "outputs": [
    {
     "data": {
      "text/plain": [
       "140000"
      ]
     },
     "execution_count": 5,
     "metadata": {},
     "output_type": "execute_result"
    }
   ],
   "source": [
    "len(train_X)"
   ]
  },
  {
   "cell_type": "code",
   "execution_count": 6,
   "id": "0eebc95e",
   "metadata": {},
   "outputs": [
    {
     "data": {
      "text/plain": [
       "<matplotlib.image.AxesImage at 0x277f21ad000>"
      ]
     },
     "execution_count": 6,
     "metadata": {},
     "output_type": "execute_result"
    },
    {
     "data": {
      "image/png": "[encoded data removed]",
      "text/plain": [
       "<Figure size 640x480 with 1 Axes>"
      ]
     },
     "metadata": {},
     "output_type": "display_data"
    }
   ],
   "source": [
    "plt.imshow(train_X[4]  , cmap=plt.cm.gray_r,interpolation=\"nearest\")"
   ]
  },
  {
   "cell_type": "code",
   "execution_count": 7,
   "id": "3f7d62f3",
   "metadata": {},
   "outputs": [
    {
     "data": {
      "text/plain": [
       "'0'"
      ]
     },
     "execution_count": 7,
     "metadata": {},
     "output_type": "execute_result"
    }
   ],
   "source": [
    "train_Y[4]"
   ]
  },
  {
   "cell_type": "code",
   "execution_count": 8,
   "id": "ac6b1218",
   "metadata": {},
   "outputs": [],
   "source": [
    "X_train, X_test, y_train, y_test = train_test_split(train_X,train_Y,test_size=0.20, random_state=42 ,shuffle=True)"
   ]
  },
  {
   "cell_type": "markdown",
   "id": "d14c521b",
   "metadata": {},
   "source": [
    "# Task 1:\n",
    "## KNN"
   ]
  },
  {
   "cell_type": "code",
   "execution_count": 9,
   "id": "83c2a485",
   "metadata": {},
   "outputs": [],
   "source": [
    "from sklearn.neighbors import KNeighborsClassifier"
   ]
  },
  {
   "cell_type": "code",
   "execution_count": 10,
   "id": "6dd0f16e",
   "metadata": {},
   "outputs": [],
   "source": [
    "knn = KNeighborsClassifier(n_neighbors=3)"
   ]
  },
  {
   "cell_type": "code",
   "execution_count": 11,
   "id": "e14f39a3",
   "metadata": {},
   "outputs": [],
   "source": [
    "x_arr =np.array(X_train)"
   ]
  },
  {
   "cell_type": "code",
   "execution_count": 12,
   "id": "61c546cd",
   "metadata": {},
   "outputs": [],
   "source": [
    "xd =x_arr.reshape(112000,1024)"
   ]
  },
  {
   "cell_type": "code",
   "execution_count": 13,
   "id": "0ec74b6a",
   "metadata": {},
   "outputs": [
    {
     "data": {
      "text/plain": [
       "112000"
      ]
     },
     "execution_count": 13,
     "metadata": {},
     "output_type": "execute_result"
    }
   ],
   "source": [
    "len(xd)"
   ]
  },
  {
   "cell_type": "code",
   "execution_count": 14,
   "id": "71aa6f1d",
   "metadata": {},
   "outputs": [
    {
     "data": {
      "text/html": [
       "<style>#sk-container-id-1 {color: black;background-color: white;}#sk-container-id-1 pre{padding: 0;}#sk-container-id-1 div.sk-toggleable {background-color: white;}#sk-container-id-1 label.sk-toggleable__label {cursor: pointer;display: block;width: 100%;margin-bottom: 0;padding: 0.3em;box-sizing: border-box;text-align: center;}#sk-container-id-1 label.sk-toggleable__label-arrow:before {content: \"▸\";float: left;margin-right: 0.25em;color: #696969;}#sk-container-id-1 label.sk-toggleable__label-arrow:hover:before {color: black;}#sk-container-id-1 div.sk-estimator:hover label.sk-toggleable__label-arrow:before {color: black;}#sk-container-id-1 div.sk-toggleable__content {max-height: 0;max-width: 0;overflow: hidden;text-align: left;background-color: #f0f8ff;}#sk-container-id-1 div.sk-toggleable__content pre {margin: 0.2em;color: black;border-radius: 0.25em;background-color: #f0f8ff;}#sk-container-id-1 input.sk-toggleable__control:checked~div.sk-toggleable__content {max-height: 200px;max-width: 100%;overflow: auto;}#sk-container-id-1 input.sk-toggleable__control:checked~label.sk-toggleable__label-arrow:before {content: \"▾\";}#sk-container-id-1 div.sk-estimator input.sk-toggleable__control:checked~label.sk-toggleable__label {background-color: #d4ebff;}#sk-container-id-1 div.sk-label input.sk-toggleable__control:checked~label.sk-toggleable__label {background-color: #d4ebff;}#sk-container-id-1 input.sk-hidden--visually {border: 0;clip: rect(1px 1px 1px 1px);clip: rect(1px, 1px, 1px, 1px);height: 1px;margin: -1px;overflow: hidden;padding: 0;position: absolute;width: 1px;}#sk-container-id-1 div.sk-estimator {font-family: monospace;background-color: #f0f8ff;border: 1px dotted black;border-radius: 0.25em;box-sizing: border-box;margin-bottom: 0.5em;}#sk-container-id-1 div.sk-estimator:hover {background-color: #d4ebff;}#sk-container-id-1 div.sk-parallel-item::after {content: \"\";width: 100%;border-bottom: 1px solid gray;flex-grow: 1;}#sk-container-id-1 div.sk-label:hover label.sk-toggleable__label {background-color: #d4ebff;}#sk-container-id-1 div.sk-serial::before {content: \"\";position: absolute;border-left: 1px solid gray;box-sizing: border-box;top: 0;bottom: 0;left: 50%;z-index: 0;}#sk-container-id-1 div.sk-serial {display: flex;flex-direction: column;align-items: center;background-color: white;padding-right: 0.2em;padding-left: 0.2em;position: relative;}#sk-container-id-1 div.sk-item {position: relative;z-index: 1;}#sk-container-id-1 div.sk-parallel {display: flex;align-items: stretch;justify-content: center;background-color: white;position: relative;}#sk-container-id-1 div.sk-item::before, #sk-container-id-1 div.sk-parallel-item::before {content: \"\";position: absolute;border-left: 1px solid gray;box-sizing: border-box;top: 0;bottom: 0;left: 50%;z-index: -1;}#sk-container-id-1 div.sk-parallel-item {display: flex;flex-direction: column;z-index: 1;position: relative;background-color: white;}#sk-container-id-1 div.sk-parallel-item:first-child::after {align-self: flex-end;width: 50%;}#sk-container-id-1 div.sk-parallel-item:last-child::after {align-self: flex-start;width: 50%;}#sk-container-id-1 div.sk-parallel-item:only-child::after {width: 0;}#sk-container-id-1 div.sk-dashed-wrapped {border: 1px dashed gray;margin: 0 0.4em 0.5em 0.4em;box-sizing: border-box;padding-bottom: 0.4em;background-color: white;}#sk-container-id-1 div.sk-label label {font-family: monospace;font-weight: bold;display: inline-block;line-height: 1.2em;}#sk-container-id-1 div.sk-label-container {text-align: center;}#sk-container-id-1 div.sk-container {/* jupyter's `normalize.less` sets `[hidden] { display: none; }` but bootstrap.min.css set `[hidden] { display: none !important; }` so we also need the `!important` here to be able to override the default hidden behavior on the sphinx rendered scikit-learn.org. See: https://github.com/scikit-learn/scikit-learn/issues/21755 */display: inline-block !important;position: relative;}#sk-container-id-1 div.sk-text-repr-fallback {display: none;}</style><div id=\"sk-container-id-1\" class=\"sk-top-container\"><div class=\"sk-text-repr-fallback\"><pre>KNeighborsClassifier(n_neighbors=3)</pre><b>In a Jupyter environment, please rerun this cell to show the HTML representation or trust the notebook. <br />On GitHub, the HTML representation is unable to render, please try loading this page with nbviewer.org.</b></div><div class=\"sk-container\" hidden><div class=\"sk-item\"><div class=\"sk-estimator sk-toggleable\"><input class=\"sk-toggleable__control sk-hidden--visually\" id=\"sk-estimator-id-1\" type=\"checkbox\" checked><label for=\"sk-estimator-id-1\" class=\"sk-toggleable__label sk-toggleable__label-arrow\">KNeighborsClassifier</label><div class=\"sk-toggleable__content\"><pre>KNeighborsClassifier(n_neighbors=3)</pre></div></div></div></div></div>"
      ],
      "text/plain": [
       "KNeighborsClassifier(n_neighbors=3)"
      ]
     },
     "execution_count": 14,
     "metadata": {},
     "output_type": "execute_result"
    }
   ],
   "source": [
    "knn.fit(xd,y_train)"
   ]
  },
  {
   "cell_type": "code",
   "execution_count": 15,
   "id": "dd393fb4",
   "metadata": {},
   "outputs": [],
   "source": [
    "y_arr =np.array(X_test)"
   ]
  },
  {
   "cell_type": "code",
   "execution_count": 16,
   "id": "981cd9dd",
   "metadata": {},
   "outputs": [],
   "source": [
    "y_te = y_arr.reshape(28000,1024)"
   ]
  },
  {
   "cell_type": "code",
   "execution_count": 17,
   "id": "6961c04f",
   "metadata": {},
   "outputs": [],
   "source": [
    "predict =knn.predict(y_te)"
   ]
  },
  {
   "cell_type": "code",
   "execution_count": 18,
   "id": "b0e47e3e",
   "metadata": {},
   "outputs": [
    {
     "data": {
      "text/plain": [
       "'B'"
      ]
     },
     "execution_count": 18,
     "metadata": {},
     "output_type": "execute_result"
    }
   ],
   "source": [
    "predict[9]"
   ]
  },
  {
   "cell_type": "code",
   "execution_count": 19,
   "id": "2f080251",
   "metadata": {},
   "outputs": [
    {
     "name": "stdout",
     "output_type": "stream",
     "text": [
      "88.01785714285715 %\n"
     ]
    }
   ],
   "source": [
    "accurcy = accuracy_score(y_test,predict)*100\n",
    "print(str(accurcy)+\" %\")"
   ]
  },
  {
   "cell_type": "markdown",
   "id": "f971aec6",
   "metadata": {},
   "source": [
    "# Task 2:\n",
    "## CNN"
   ]
  },
  {
   "cell_type": "code",
   "execution_count": 20,
   "id": "70479521",
   "metadata": {},
   "outputs": [],
   "source": [
    "dir = os.getcwd() + \"/archive/Train/\"\n",
    "train_data = []\n",
    "img_size = 32\n",
    "non_chars = [\"#\",\"$\",\"&\",\"@\"]\n",
    "for i in os.listdir(dir):\n",
    "    if i in non_chars:\n",
    "        continue\n",
    "    count = 0\n",
    "    sub_directory = os.path.join(dir,i)\n",
    "    for j in os.listdir(sub_directory):\n",
    "        count+=1\n",
    "        if count > 4000:\n",
    "            break\n",
    "        img = cv2.imread(os.path.join(sub_directory,j),0)\n",
    "        img = cv2.resize(img,(img_size,img_size))\n",
    "        train_data.append([img,i])"
   ]
  },
  {
   "cell_type": "code",
   "execution_count": 21,
   "id": "0a42044c",
   "metadata": {},
   "outputs": [],
   "source": [
    "val_dir = os.getcwd() + \"/archive/Validation/\"\n",
    "val_data = []\n",
    "img_size = 32\n",
    "for i in os.listdir(val_dir):\n",
    "    if i in non_chars:\n",
    "        continue\n",
    "    count = 0\n",
    "    sub_directory = os.path.join(val_dir,i)\n",
    "    for j in os.listdir(sub_directory):\n",
    "        count+=1\n",
    "        if count > 1000:\n",
    "            break\n",
    "        img = cv2.imread(os.path.join(sub_directory,j),0)\n",
    "        img = cv2.resize(img,(img_size,img_size))\n",
    "        val_data.append([img,i])"
   ]
  },
  {
   "cell_type": "code",
   "execution_count": 22,
   "id": "17d1d8d8",
   "metadata": {},
   "outputs": [
    {
     "data": {
      "text/plain": [
       "15209"
      ]
     },
     "execution_count": 22,
     "metadata": {},
     "output_type": "execute_result"
    }
   ],
   "source": [
    "len(val_data)"
   ]
  },
  {
   "cell_type": "code",
   "execution_count": 23,
   "id": "ff09f321",
   "metadata": {},
   "outputs": [],
   "source": [
    "random.shuffle(train_data)\n",
    "random.shuffle(val_data)"
   ]
  },
  {
   "cell_type": "code",
   "execution_count": 24,
   "id": "baa251de",
   "metadata": {},
   "outputs": [],
   "source": [
    "train_X = []\n",
    "train_Y = []\n",
    "for features,label in train_data:\n",
    "    train_X.append(features)\n",
    "    train_Y.append(label)"
   ]
  },
  {
   "cell_type": "code",
   "execution_count": 25,
   "id": "f81e82a0",
   "metadata": {},
   "outputs": [],
   "source": [
    "val_X = []\n",
    "val_Y = []\n",
    "for features,label in val_data:\n",
    "    val_X.append(features)\n",
    "    val_Y.append(label)"
   ]
  },
  {
   "cell_type": "code",
   "execution_count": 26,
   "id": "b5002ff3",
   "metadata": {},
   "outputs": [],
   "source": [
    "LB = LabelBinarizer()\n",
    "train_Y = LB.fit_transform(train_Y)\n",
    "val_Y = LB.fit_transform(val_Y)"
   ]
  },
  {
   "cell_type": "code",
   "execution_count": 27,
   "id": "63f9d0f0",
   "metadata": {},
   "outputs": [],
   "source": [
    "train_X = np.array(train_X)/255.0\n",
    "train_X = train_X.reshape(-1,32,32,1)\n",
    "train_Y = np.array(train_Y)"
   ]
  },
  {
   "cell_type": "code",
   "execution_count": 28,
   "id": "fcf72da0",
   "metadata": {},
   "outputs": [],
   "source": [
    "val_X = np.array(val_X)/255.0\n",
    "val_X = val_X.reshape(-1,32,32,1)\n",
    "val_Y = np.array(val_Y)"
   ]
  },
  {
   "cell_type": "code",
   "execution_count": 29,
   "id": "203aefb4",
   "metadata": {},
   "outputs": [
    {
     "name": "stdout",
     "output_type": "stream",
     "text": [
      "(140000, 32, 32, 1) (15209, 32, 32, 1)\n"
     ]
    }
   ],
   "source": [
    "print(train_X.shape,val_X.shape)"
   ]
  },
  {
   "cell_type": "code",
   "execution_count": 30,
   "id": "7dbdb437",
   "metadata": {},
   "outputs": [
    {
     "name": "stdout",
     "output_type": "stream",
     "text": [
      "(140000, 35) (15209, 35)\n"
     ]
    }
   ],
   "source": [
    "print(train_Y.shape,val_Y.shape)"
   ]
  },
  {
   "cell_type": "code",
   "execution_count": 31,
   "id": "b36fec60",
   "metadata": {},
   "outputs": [],
   "source": [
    "model = Sequential()\n",
    "\n",
    "model.add(Conv2D(32, (3, 3), padding = \"same\", activation='relu', input_shape=(32,32,1)))\n",
    "model.add(MaxPooling2D(pool_size=(2,2)))\n",
    "model.add(Conv2D(64, (3, 3), activation='relu'))\n",
    "model.add(MaxPooling2D(pool_size=(2,2)))\n",
    "model.add(Conv2D(128, (3, 3), activation='relu'))\n",
    "model.add(MaxPooling2D(pool_size=(2,2), name='feature_layer'))\n",
    "model.add(Dropout(0.25))\n",
    " \n",
    "model.add(Flatten())\n",
    "model.add(Dense(128, activation='relu', name='secondLast_layer'))\n",
    "model.add(Dropout(0.2))\n",
    "model.add(Dense(35, activation='softmax'))"
   ]
  },
  {
   "cell_type": "code",
   "execution_count": 32,
   "id": "7619002a",
   "metadata": {},
   "outputs": [
    {
     "data": {
      "image/png": "[encoded data removed]",
      "text/plain": [
       "<IPython.core.display.Image object>"
      ]
     },
     "execution_count": 32,
     "metadata": {},
     "output_type": "execute_result"
    }
   ],
   "source": [
    "from keras.utils.vis_utils import plot_model\n",
    "plot_model(model, to_file='model_plot.png', show_shapes=True, show_layer_names=True)"
   ]
  },
  {
   "cell_type": "code",
   "execution_count": 33,
   "id": "637434b6",
   "metadata": {},
   "outputs": [
    {
     "name": "stdout",
     "output_type": "stream",
     "text": [
      "Model: \"sequential\"\n",
      "_________________________________________________________________\n",
      " Layer (type)                Output Shape              Param #   \n",
      "=================================================================\n",
      " conv2d (Conv2D)             (None, 32, 32, 32)        320       \n",
      "                                                                 \n",
      " max_pooling2d (MaxPooling2D  (None, 16, 16, 32)       0         \n",
      " )                                                               \n",
      "                                                                 \n",
      " conv2d_1 (Conv2D)           (None, 14, 14, 64)        18496     \n",
      "                                                                 \n",
      " max_pooling2d_1 (MaxPooling  (None, 7, 7, 64)         0         \n",
      " 2D)                                                             \n",
      "                                                                 \n",
      " conv2d_2 (Conv2D)           (None, 5, 5, 128)         73856     \n",
      "                                                                 \n",
      " feature_layer (MaxPooling2D  (None, 2, 2, 128)        0         \n",
      " )                                                               \n",
      "                                                                 \n",
      " dropout (Dropout)           (None, 2, 2, 128)         0         \n",
      "                                                                 \n",
      " flatten (Flatten)           (None, 512)               0         \n",
      "                                                                 \n",
      " secondLast_layer (Dense)    (None, 128)               65664     \n",
      "                                                                 \n",
      " dropout_1 (Dropout)         (None, 128)               0         \n",
      "                                                                 \n",
      " dense (Dense)               (None, 35)                4515      \n",
      "                                                                 \n",
      "=================================================================\n",
      "Total params: 162,851\n",
      "Trainable params: 162,851\n",
      "Non-trainable params: 0\n",
      "_________________________________________________________________\n"
     ]
    }
   ],
   "source": [
    "model.summary()"
   ]
  },
  {
   "cell_type": "code",
   "execution_count": 34,
   "id": "5b317974",
   "metadata": {},
   "outputs": [],
   "source": [
    "model.compile(loss='categorical_crossentropy', optimizer=\"adam\",metrics=['accuracy'])\n",
    "earlystopping = callbacks.EarlyStopping(monitor =\"val_loss\", mode =\"min\", patience = 10, restore_best_weights = True)"
   ]
  },
  {
   "cell_type": "code",
   "execution_count": 35,
   "id": "9e6800b8",
   "metadata": {
    "scrolled": false
   },
   "outputs": [
    {
     "name": "stdout",
     "output_type": "stream",
     "text": [
      "Epoch 1/75\n",
      "4375/4375 [==============================] - 23s 4ms/step - loss: 0.5498 - accuracy: 0.8210 - val_loss: 0.6834 - val_accuracy: 0.8472\n",
      "Epoch 2/75\n",
      "4375/4375 [==============================] - 17s 4ms/step - loss: 0.3018 - accuracy: 0.8926 - val_loss: 0.6860 - val_accuracy: 0.8306\n",
      "Epoch 3/75\n",
      "4375/4375 [==============================] - 17s 4ms/step - loss: 0.2637 - accuracy: 0.9049 - val_loss: 0.6697 - val_accuracy: 0.8476\n",
      "Epoch 4/75\n",
      "4375/4375 [==============================] - 17s 4ms/step - loss: 0.2389 - accuracy: 0.9122 - val_loss: 0.6492 - val_accuracy: 0.8632\n",
      "Epoch 5/75\n",
      "4375/4375 [==============================] - 17s 4ms/step - loss: 0.2272 - accuracy: 0.9160 - val_loss: 0.7051 - val_accuracy: 0.8623\n",
      "Epoch 6/75\n",
      "4375/4375 [==============================] - 16s 4ms/step - loss: 0.2130 - accuracy: 0.9207 - val_loss: 0.6840 - val_accuracy: 0.8788\n",
      "Epoch 7/75\n",
      "4375/4375 [==============================] - 17s 4ms/step - loss: 0.2046 - accuracy: 0.9227 - val_loss: 0.6832 - val_accuracy: 0.8822\n",
      "Epoch 8/75\n",
      "4375/4375 [==============================] - 17s 4ms/step - loss: 0.1966 - accuracy: 0.9254 - val_loss: 0.6667 - val_accuracy: 0.8760\n",
      "Epoch 9/75\n",
      "4375/4375 [==============================] - 18s 4ms/step - loss: 0.1926 - accuracy: 0.9268 - val_loss: 0.6707 - val_accuracy: 0.8778\n",
      "Epoch 10/75\n",
      "4375/4375 [==============================] - 17s 4ms/step - loss: 0.1883 - accuracy: 0.9277 - val_loss: 0.6821 - val_accuracy: 0.8772\n",
      "Epoch 11/75\n",
      "4375/4375 [==============================] - 17s 4ms/step - loss: 0.1850 - accuracy: 0.9293 - val_loss: 0.7513 - val_accuracy: 0.8636\n",
      "Epoch 12/75\n",
      "4375/4375 [==============================] - 17s 4ms/step - loss: 0.1783 - accuracy: 0.9310 - val_loss: 0.7300 - val_accuracy: 0.8730\n",
      "Epoch 13/75\n",
      "4375/4375 [==============================] - 17s 4ms/step - loss: 0.1753 - accuracy: 0.9321 - val_loss: 0.7513 - val_accuracy: 0.8809\n",
      "Epoch 14/75\n",
      "4375/4375 [==============================] - 17s 4ms/step - loss: 0.1733 - accuracy: 0.9328 - val_loss: 0.7473 - val_accuracy: 0.8624\n",
      "Epoch 15/75\n",
      "4375/4375 [==============================] - 17s 4ms/step - loss: 0.1701 - accuracy: 0.9335 - val_loss: 0.8823 - val_accuracy: 0.8715\n",
      "Epoch 16/75\n",
      "4375/4375 [==============================] - 17s 4ms/step - loss: 0.1684 - accuracy: 0.9344 - val_loss: 0.7350 - val_accuracy: 0.8844\n",
      "Epoch 17/75\n",
      "4375/4375 [==============================] - 18s 4ms/step - loss: 0.1647 - accuracy: 0.9351 - val_loss: 0.7578 - val_accuracy: 0.8788\n",
      "Epoch 18/75\n",
      "4375/4375 [==============================] - 18s 4ms/step - loss: 0.1617 - accuracy: 0.9363 - val_loss: 0.7437 - val_accuracy: 0.8715\n",
      "Epoch 19/75\n",
      "4375/4375 [==============================] - 18s 4ms/step - loss: 0.1624 - accuracy: 0.9359 - val_loss: 0.7492 - val_accuracy: 0.8728\n",
      "Epoch 20/75\n",
      "4375/4375 [==============================] - 17s 4ms/step - loss: 0.1611 - accuracy: 0.9378 - val_loss: 0.8338 - val_accuracy: 0.8639\n",
      "Epoch 21/75\n",
      "4375/4375 [==============================] - 17s 4ms/step - loss: 0.1605 - accuracy: 0.9365 - val_loss: 0.7927 - val_accuracy: 0.8809\n",
      "Epoch 22/75\n",
      "4375/4375 [==============================] - 18s 4ms/step - loss: 0.1566 - accuracy: 0.9384 - val_loss: 0.8420 - val_accuracy: 0.8781\n",
      "Epoch 23/75\n",
      "4375/4375 [==============================] - 19s 4ms/step - loss: 0.1553 - accuracy: 0.9385 - val_loss: 0.8861 - val_accuracy: 0.8707\n",
      "Epoch 24/75\n",
      "4375/4375 [==============================] - 18s 4ms/step - loss: 0.1561 - accuracy: 0.9388 - val_loss: 0.9274 - val_accuracy: 0.8752\n",
      "Epoch 25/75\n",
      "4375/4375 [==============================] - 18s 4ms/step - loss: 0.1548 - accuracy: 0.9393 - val_loss: 0.7646 - val_accuracy: 0.8767\n",
      "Epoch 26/75\n",
      "4375/4375 [==============================] - 17s 4ms/step - loss: 0.1545 - accuracy: 0.9391 - val_loss: 0.9614 - val_accuracy: 0.8666\n",
      "Epoch 27/75\n",
      "4375/4375 [==============================] - 17s 4ms/step - loss: 0.1526 - accuracy: 0.9394 - val_loss: 0.8309 - val_accuracy: 0.8603\n",
      "Epoch 28/75\n",
      "4375/4375 [==============================] - 17s 4ms/step - loss: 0.1524 - accuracy: 0.9398 - val_loss: 0.8812 - val_accuracy: 0.8834\n",
      "Epoch 29/75\n",
      "4375/4375 [==============================] - 17s 4ms/step - loss: 0.1522 - accuracy: 0.9393 - val_loss: 0.9473 - val_accuracy: 0.8759\n",
      "Epoch 30/75\n",
      "4375/4375 [==============================] - 18s 4ms/step - loss: 0.1508 - accuracy: 0.9405 - val_loss: 0.9295 - val_accuracy: 0.8847\n",
      "Epoch 31/75\n",
      "4375/4375 [==============================] - 18s 4ms/step - loss: 0.1498 - accuracy: 0.9401 - val_loss: 0.9580 - val_accuracy: 0.8676\n",
      "Epoch 32/75\n",
      "4375/4375 [==============================] - 18s 4ms/step - loss: 0.1488 - accuracy: 0.9407 - val_loss: 0.9775 - val_accuracy: 0.8704\n",
      "Epoch 33/75\n",
      "4375/4375 [==============================] - 17s 4ms/step - loss: 0.1477 - accuracy: 0.9414 - val_loss: 0.8795 - val_accuracy: 0.8821\n",
      "Epoch 34/75\n",
      "4375/4375 [==============================] - 18s 4ms/step - loss: 0.1471 - accuracy: 0.9420 - val_loss: 0.9347 - val_accuracy: 0.8772\n",
      "Epoch 35/75\n",
      "4375/4375 [==============================] - 19s 4ms/step - loss: 0.1474 - accuracy: 0.9417 - val_loss: 0.8924 - val_accuracy: 0.8738\n",
      "Epoch 36/75\n",
      "4375/4375 [==============================] - 22s 5ms/step - loss: 0.1456 - accuracy: 0.9420 - val_loss: 0.8931 - val_accuracy: 0.8784\n",
      "Epoch 37/75\n",
      "4375/4375 [==============================] - 18s 4ms/step - loss: 0.1453 - accuracy: 0.9422 - val_loss: 0.9412 - val_accuracy: 0.8787\n",
      "Epoch 38/75\n",
      "4375/4375 [==============================] - 19s 4ms/step - loss: 0.1448 - accuracy: 0.9424 - val_loss: 0.9863 - val_accuracy: 0.8747\n",
      "Epoch 39/75\n",
      "4375/4375 [==============================] - 19s 4ms/step - loss: 0.1440 - accuracy: 0.9430 - val_loss: 0.9498 - val_accuracy: 0.8745\n",
      "Epoch 40/75\n",
      "4375/4375 [==============================] - 18s 4ms/step - loss: 0.1444 - accuracy: 0.9435 - val_loss: 0.9477 - val_accuracy: 0.8760\n",
      "Epoch 41/75\n",
      "4375/4375 [==============================] - 19s 4ms/step - loss: 0.1454 - accuracy: 0.9424 - val_loss: 0.9845 - val_accuracy: 0.8808\n",
      "Epoch 42/75\n",
      "4375/4375 [==============================] - 18s 4ms/step - loss: 0.1456 - accuracy: 0.9425 - val_loss: 0.9379 - val_accuracy: 0.8776\n",
      "Epoch 43/75\n",
      "4375/4375 [==============================] - 17s 4ms/step - loss: 0.1425 - accuracy: 0.9432 - val_loss: 0.9335 - val_accuracy: 0.8762\n",
      "Epoch 44/75\n",
      "4375/4375 [==============================] - 17s 4ms/step - loss: 0.1421 - accuracy: 0.9441 - val_loss: 1.0308 - val_accuracy: 0.8742\n",
      "Epoch 45/75\n",
      "4375/4375 [==============================] - 19s 4ms/step - loss: 0.1445 - accuracy: 0.9427 - val_loss: 0.9986 - val_accuracy: 0.8782\n",
      "Epoch 46/75\n",
      "4375/4375 [==============================] - 18s 4ms/step - loss: 0.1450 - accuracy: 0.9434 - val_loss: 1.0475 - val_accuracy: 0.8778\n",
      "Epoch 47/75\n",
      "4375/4375 [==============================] - 18s 4ms/step - loss: 0.1427 - accuracy: 0.9437 - val_loss: 1.0207 - val_accuracy: 0.8719\n",
      "Epoch 48/75\n",
      "4375/4375 [==============================] - 18s 4ms/step - loss: 0.1432 - accuracy: 0.9445 - val_loss: 1.0847 - val_accuracy: 0.8763\n",
      "Epoch 49/75\n",
      "4375/4375 [==============================] - 17s 4ms/step - loss: 0.1422 - accuracy: 0.9445 - val_loss: 1.0239 - val_accuracy: 0.8742\n",
      "Epoch 50/75\n",
      "4375/4375 [==============================] - 18s 4ms/step - loss: 0.1429 - accuracy: 0.9440 - val_loss: 0.9898 - val_accuracy: 0.8786\n",
      "Epoch 51/75\n",
      "4375/4375 [==============================] - 19s 4ms/step - loss: 0.1431 - accuracy: 0.9442 - val_loss: 1.1084 - val_accuracy: 0.8745\n",
      "Epoch 52/75\n",
      "4375/4375 [==============================] - 18s 4ms/step - loss: 0.1396 - accuracy: 0.9447 - val_loss: 1.0045 - val_accuracy: 0.8719\n",
      "Epoch 53/75\n",
      "4375/4375 [==============================] - 18s 4ms/step - loss: 0.1418 - accuracy: 0.9444 - val_loss: 0.9758 - val_accuracy: 0.8786\n",
      "Epoch 54/75\n",
      "4375/4375 [==============================] - 17s 4ms/step - loss: 0.1413 - accuracy: 0.9444 - val_loss: 1.0061 - val_accuracy: 0.8755\n",
      "Epoch 55/75\n",
      "4375/4375 [==============================] - 18s 4ms/step - loss: 0.1416 - accuracy: 0.9443 - val_loss: 1.1444 - val_accuracy: 0.8718\n",
      "Epoch 56/75\n",
      "4375/4375 [==============================] - 19s 4ms/step - loss: 0.1390 - accuracy: 0.9458 - val_loss: 0.9748 - val_accuracy: 0.8832\n",
      "Epoch 57/75\n",
      "4375/4375 [==============================] - 18s 4ms/step - loss: 0.1415 - accuracy: 0.9446 - val_loss: 1.1079 - val_accuracy: 0.8750\n",
      "Epoch 58/75\n",
      "4375/4375 [==============================] - 18s 4ms/step - loss: 0.1375 - accuracy: 0.9454 - val_loss: 1.0364 - val_accuracy: 0.8796\n",
      "Epoch 59/75\n",
      "4375/4375 [==============================] - 19s 4ms/step - loss: 0.1392 - accuracy: 0.9453 - val_loss: 1.1124 - val_accuracy: 0.8778\n",
      "Epoch 60/75\n",
      "4375/4375 [==============================] - 18s 4ms/step - loss: 0.1421 - accuracy: 0.9443 - val_loss: 1.0291 - val_accuracy: 0.8715\n",
      "Epoch 61/75\n",
      "4375/4375 [==============================] - 18s 4ms/step - loss: 0.1385 - accuracy: 0.9463 - val_loss: 1.0618 - val_accuracy: 0.8846\n",
      "Epoch 62/75\n",
      "4375/4375 [==============================] - 18s 4ms/step - loss: 0.1386 - accuracy: 0.9454 - val_loss: 1.1131 - val_accuracy: 0.8757\n",
      "Epoch 63/75\n",
      "4375/4375 [==============================] - 19s 4ms/step - loss: 0.1398 - accuracy: 0.9448 - val_loss: 1.1444 - val_accuracy: 0.8738\n",
      "Epoch 64/75\n",
      "4375/4375 [==============================] - 18s 4ms/step - loss: 0.1422 - accuracy: 0.9449 - val_loss: 1.1076 - val_accuracy: 0.8772\n",
      "Epoch 65/75\n",
      "4375/4375 [==============================] - 18s 4ms/step - loss: 0.1378 - accuracy: 0.9451 - val_loss: 1.1638 - val_accuracy: 0.8786\n",
      "Epoch 66/75\n",
      "4375/4375 [==============================] - 17s 4ms/step - loss: 0.1398 - accuracy: 0.9457 - val_loss: 1.2182 - val_accuracy: 0.8799\n",
      "Epoch 67/75\n",
      "4375/4375 [==============================] - 17s 4ms/step - loss: 0.1389 - accuracy: 0.9458 - val_loss: 1.0973 - val_accuracy: 0.8685\n",
      "Epoch 68/75\n",
      "4375/4375 [==============================] - 17s 4ms/step - loss: 0.1398 - accuracy: 0.9457 - val_loss: 1.2677 - val_accuracy: 0.8727\n",
      "Epoch 69/75\n",
      "4375/4375 [==============================] - 17s 4ms/step - loss: 0.1357 - accuracy: 0.9470 - val_loss: 1.2103 - val_accuracy: 0.8819\n",
      "Epoch 70/75\n",
      "4375/4375 [==============================] - 17s 4ms/step - loss: 0.1397 - accuracy: 0.9457 - val_loss: 1.2888 - val_accuracy: 0.8697\n",
      "Epoch 71/75\n",
      "4375/4375 [==============================] - 17s 4ms/step - loss: 0.1397 - accuracy: 0.9457 - val_loss: 1.1339 - val_accuracy: 0.8793\n",
      "Epoch 72/75\n",
      "4375/4375 [==============================] - 17s 4ms/step - loss: 0.1392 - accuracy: 0.9459 - val_loss: 1.0650 - val_accuracy: 0.8749\n",
      "Epoch 73/75\n",
      "4375/4375 [==============================] - 17s 4ms/step - loss: 0.1363 - accuracy: 0.9463 - val_loss: 1.3379 - val_accuracy: 0.8692\n",
      "Epoch 74/75\n",
      "4375/4375 [==============================] - 17s 4ms/step - loss: 0.1382 - accuracy: 0.9459 - val_loss: 1.2500 - val_accuracy: 0.8746\n",
      "Epoch 75/75\n",
      "4375/4375 [==============================] - 17s 4ms/step - loss: 0.1391 - accuracy: 0.9460 - val_loss: 1.1419 - val_accuracy: 0.8759\n"
     ]
    }
   ],
   "source": [
    "history = model.fit(train_X,train_Y, epochs=75, batch_size=32, validation_data = (val_X, val_Y), verbose=1)\n",
    "#                     callbacks = [earlystopping])"
   ]
  },
  {
   "cell_type": "code",
   "execution_count": 36,
   "id": "a4196a21",
   "metadata": {},
   "outputs": [],
   "source": [
    "model.save('Offline_Handwritten_cudNN8_1.h5')"
   ]
  },
  {
   "cell_type": "code",
   "execution_count": 35,
   "id": "6507f9ad",
   "metadata": {},
   "outputs": [],
   "source": [
    "model = tf.keras.models.load_model(\"Offline_Handwritten.h5\")"
   ]
  },
  {
   "cell_type": "code",
   "execution_count": 38,
   "id": "df0fa85f",
   "metadata": {},
   "outputs": [
    {
     "data": {
      "image/png": "[encoded data removed]",
      "text/plain": [
       "<Figure size 640x480 with 1 Axes>"
      ]
     },
     "metadata": {},
     "output_type": "display_data"
    }
   ],
   "source": [
    "plt.plot(history.history['accuracy'])\n",
    "plt.plot(history.history['val_accuracy'])\n",
    "plt.title('Training Accuracy vs Validation Accuracy')\n",
    "plt.ylabel('Accuracy')\n",
    "plt.xlabel('Epoch')\n",
    "plt.legend(['Train', 'Validation'], loc='upper left')\n",
    "plt.show()"
   ]
  },
  {
   "cell_type": "markdown",
   "id": "dd35ce57",
   "metadata": {},
   "source": [
    "#### Recognition and Post-Processing\n",
    "\n",
    "######    1.The sort contours function is used to get the correct order of individual characters for correct output extraction. In this case for extracting a single word, a left to right sorting of individual characters is needed.\n",
    "######   2.The get letters function fetches the list of letters and get word function gets the individual word."
   ]
  },
  {
   "cell_type": "markdown",
   "id": "7e53dada",
   "metadata": {},
   "source": [
    "# Task 3:\n",
    "## Composite model\n",
    "##### Create a new composite model by feeding the output of second last layer of CNN to KNN."
   ]
  },
  {
   "cell_type": "code",
   "execution_count": 36,
   "id": "33e9fed5",
   "metadata": {},
   "outputs": [],
   "source": [
    "train_X = []\n",
    "train_Y = []\n",
    "for features,label in train_data:\n",
    "    train_X.append(features)\n",
    "    train_Y.append(label)"
   ]
  },
  {
   "cell_type": "code",
   "execution_count": 37,
   "id": "f78d13a3",
   "metadata": {},
   "outputs": [
    {
     "name": "stdout",
     "output_type": "stream",
     "text": [
      "(140000, 32, 32)\n"
     ]
    },
    {
     "data": {
      "text/plain": [
       "(140000,)"
      ]
     },
     "execution_count": 37,
     "metadata": {},
     "output_type": "execute_result"
    }
   ],
   "source": [
    "train_X = np.array(train_X)/255.0\n",
    "# train_X = train_X.reshape(-1,32,32,1)\n",
    "# train_X = train_X.reshape(112000,1024)\n",
    "print(train_X.shape)\n",
    "\n",
    "train_Y = np.array(train_Y)\n",
    "train_Y.shape"
   ]
  },
  {
   "cell_type": "code",
   "execution_count": 38,
   "id": "44fc047a",
   "metadata": {},
   "outputs": [],
   "source": [
    "X_train, X_test, y_train, y_test = train_test_split(train_X,train_Y,test_size=0.20, random_state=42 ,shuffle=True)"
   ]
  },
  {
   "cell_type": "code",
   "execution_count": 39,
   "id": "d54c8f7d",
   "metadata": {},
   "outputs": [
    {
     "name": "stdout",
     "output_type": "stream",
     "text": [
      "X_train.shape = (112000, 32, 32, 1)\n",
      "X_test.shape = (28000, 32, 32, 1)\n"
     ]
    }
   ],
   "source": [
    "X_train = np.array(X_train)\n",
    "X_test = np.array(X_test)\n",
    "X_train = X_train.reshape(X_train.shape[0],32,32,1)\n",
    "print(f\"X_train.shape = {X_train.shape}\")\n",
    "X_test=X_test.reshape(X_test.shape[0],32,32,1)\n",
    "print(f\"X_test.shape = {X_test.shape}\")"
   ]
  },
  {
   "cell_type": "code",
   "execution_count": 40,
   "id": "53a2fd3f",
   "metadata": {},
   "outputs": [
    {
     "name": "stdout",
     "output_type": "stream",
     "text": [
      "3500/3500 [==============================] - 10s 1ms/step\n",
      "X_train.shape = (112000, 128)\n",
      "875/875 [==============================] - 1s 2ms/step\n",
      "X_test.shape = (28000, 128)\n",
      "y_train.shape = (112000,)\n"
     ]
    }
   ],
   "source": [
    "# new_model = Sequential(model.layers[:-1])\n",
    "#second_last_layer = model.layers[-2].output\n",
    "#new_model = Model(inputs=model.input, outputs=second_last_layer)\n",
    "\n",
    "from keras.models import Model\n",
    "\n",
    "new_model = Model(inputs=model.input,outputs=model.get_layer('secondLast_layer').output)\n",
    "X_train = new_model.predict(X_train)\n",
    "print(f\"X_train.shape = {X_train.shape}\")\n",
    "X_test = new_model.predict(X_test)\n",
    "print(f\"X_test.shape = {X_test.shape}\")\n",
    "#Convert back the labels\n",
    "y_train = np.array(y_train)\n",
    "print(f\"y_train.shape = {y_train.shape}\")\n",
    "# y_train=[ np.where(r==1)[0][0] for r in y_train ]\n",
    "#We are now going to have a single row for each example \n",
    "X_train=X_train.reshape(112000,128)\n",
    "X_test=X_test.reshape(28000,128)"
   ]
  },
  {
   "cell_type": "code",
   "execution_count": 46,
   "id": "4b75b177",
   "metadata": {},
   "outputs": [],
   "source": [
    "#X_test = np.array(X_test)\n",
    "#X_test = X_test.reshape(28000,1024)"
   ]
  },
  {
   "cell_type": "code",
   "execution_count": 47,
   "id": "f8223444",
   "metadata": {
    "scrolled": true
   },
   "outputs": [],
   "source": [
    "#X_train_features = new_model.predict(X_train)\n",
    "#X_test_features = new_model.predict(X_test)"
   ]
  },
  {
   "cell_type": "code",
   "execution_count": 48,
   "id": "ae55701d",
   "metadata": {},
   "outputs": [],
   "source": [
    "#knn_model = KNeighborsClassifier(n_neighbors=5)\n",
    "#knn_model.fit(X_train_features, y_train)"
   ]
  },
  {
   "cell_type": "code",
   "execution_count": 41,
   "id": "faa3a5d3",
   "metadata": {},
   "outputs": [],
   "source": [
    "knc=KNeighborsClassifier()\n",
    "knc.fit(X_train,y_train)\n",
    "knc.score(X_train,y_train)\n",
    "knn_predict=knc.predict(X_test)\n",
    "#submissions=pd.DataFrame({\"ImageId\":list(range(1,len(knn_predict)+1)),\"Label\":knn_predict})\n",
    "#submissions.to_csv(\"results.csv\",index=False,header=True) "
   ]
  },
  {
   "cell_type": "code",
   "execution_count": 50,
   "id": "9cf07133",
   "metadata": {},
   "outputs": [],
   "source": [
    "#y_pred = knn_model.predict(X_test_features)"
   ]
  },
  {
   "cell_type": "code",
   "execution_count": 42,
   "id": "ec4ef8f4",
   "metadata": {},
   "outputs": [
    {
     "name": "stdout",
     "output_type": "stream",
     "text": [
      "94.78571428571428 %\n"
     ]
    }
   ],
   "source": [
    "accuracy = accuracy_score(y_test, knn_predict)\n",
    "print(str(accuracy * 100)+\" %\")"
   ]
  },
  {
   "cell_type": "code",
   "execution_count": 43,
   "id": "ebe3add6",
   "metadata": {},
   "outputs": [],
   "source": [
    "grid_params = { 'n_neighbors' : [5,7,9,11,13,15],\n",
    "               'weights' : ['uniform','distance'],\n",
    "               'metric' : ['minkowski','euclidean','manhattan']}"
   ]
  },
  {
   "cell_type": "code",
   "execution_count": 44,
   "id": "a427076d",
   "metadata": {},
   "outputs": [],
   "source": [
    "from sklearn.model_selection import GridSearchCV\n",
    "gs = GridSearchCV(KNeighborsClassifier(), grid_params, verbose = 1, cv=3, n_jobs = -1)"
   ]
  },
  {
   "cell_type": "code",
   "execution_count": null,
   "id": "0a6163a8",
   "metadata": {},
   "outputs": [
    {
     "name": "stdout",
     "output_type": "stream",
     "text": [
      "Fitting 3 folds for each of 36 candidates, totalling 108 fits\n"
     ]
    }
   ],
   "source": [
    "# g_res = gs.fit(X_train, y_train)"
   ]
  },
  {
   "cell_type": "code",
   "execution_count": null,
   "id": "8f6bf04c",
   "metadata": {},
   "outputs": [],
   "source": [
    "# g_res.best_score_"
   ]
  },
  {
   "cell_type": "code",
   "execution_count": null,
   "id": "84baaa44",
   "metadata": {},
   "outputs": [],
   "source": [
    "# g_res.best_params_"
   ]
  },
  {
   "cell_type": "code",
   "execution_count": 52,
   "id": "f0241ce8",
   "metadata": {},
   "outputs": [
    {
     "data": {
      "text/html": [
       "<style>#sk-container-id-3 {color: black;background-color: white;}#sk-container-id-3 pre{padding: 0;}#sk-container-id-3 div.sk-toggleable {background-color: white;}#sk-container-id-3 label.sk-toggleable__label {cursor: pointer;display: block;width: 100%;margin-bottom: 0;padding: 0.3em;box-sizing: border-box;text-align: center;}#sk-container-id-3 label.sk-toggleable__label-arrow:before {content: \"▸\";float: left;margin-right: 0.25em;color: #696969;}#sk-container-id-3 label.sk-toggleable__label-arrow:hover:before {color: black;}#sk-container-id-3 div.sk-estimator:hover label.sk-toggleable__label-arrow:before {color: black;}#sk-container-id-3 div.sk-toggleable__content {max-height: 0;max-width: 0;overflow: hidden;text-align: left;background-color: #f0f8ff;}#sk-container-id-3 div.sk-toggleable__content pre {margin: 0.2em;color: black;border-radius: 0.25em;background-color: #f0f8ff;}#sk-container-id-3 input.sk-toggleable__control:checked~div.sk-toggleable__content {max-height: 200px;max-width: 100%;overflow: auto;}#sk-container-id-3 input.sk-toggleable__control:checked~label.sk-toggleable__label-arrow:before {content: \"▾\";}#sk-container-id-3 div.sk-estimator input.sk-toggleable__control:checked~label.sk-toggleable__label {background-color: #d4ebff;}#sk-container-id-3 div.sk-label input.sk-toggleable__control:checked~label.sk-toggleable__label {background-color: #d4ebff;}#sk-container-id-3 input.sk-hidden--visually {border: 0;clip: rect(1px 1px 1px 1px);clip: rect(1px, 1px, 1px, 1px);height: 1px;margin: -1px;overflow: hidden;padding: 0;position: absolute;width: 1px;}#sk-container-id-3 div.sk-estimator {font-family: monospace;background-color: #f0f8ff;border: 1px dotted black;border-radius: 0.25em;box-sizing: border-box;margin-bottom: 0.5em;}#sk-container-id-3 div.sk-estimator:hover {background-color: #d4ebff;}#sk-container-id-3 div.sk-parallel-item::after {content: \"\";width: 100%;border-bottom: 1px solid gray;flex-grow: 1;}#sk-container-id-3 div.sk-label:hover label.sk-toggleable__label {background-color: #d4ebff;}#sk-container-id-3 div.sk-serial::before {content: \"\";position: absolute;border-left: 1px solid gray;box-sizing: border-box;top: 0;bottom: 0;left: 50%;z-index: 0;}#sk-container-id-3 div.sk-serial {display: flex;flex-direction: column;align-items: center;background-color: white;padding-right: 0.2em;padding-left: 0.2em;position: relative;}#sk-container-id-3 div.sk-item {position: relative;z-index: 1;}#sk-container-id-3 div.sk-parallel {display: flex;align-items: stretch;justify-content: center;background-color: white;position: relative;}#sk-container-id-3 div.sk-item::before, #sk-container-id-3 div.sk-parallel-item::before {content: \"\";position: absolute;border-left: 1px solid gray;box-sizing: border-box;top: 0;bottom: 0;left: 50%;z-index: -1;}#sk-container-id-3 div.sk-parallel-item {display: flex;flex-direction: column;z-index: 1;position: relative;background-color: white;}#sk-container-id-3 div.sk-parallel-item:first-child::after {align-self: flex-end;width: 50%;}#sk-container-id-3 div.sk-parallel-item:last-child::after {align-self: flex-start;width: 50%;}#sk-container-id-3 div.sk-parallel-item:only-child::after {width: 0;}#sk-container-id-3 div.sk-dashed-wrapped {border: 1px dashed gray;margin: 0 0.4em 0.5em 0.4em;box-sizing: border-box;padding-bottom: 0.4em;background-color: white;}#sk-container-id-3 div.sk-label label {font-family: monospace;font-weight: bold;display: inline-block;line-height: 1.2em;}#sk-container-id-3 div.sk-label-container {text-align: center;}#sk-container-id-3 div.sk-container {/* jupyter's `normalize.less` sets `[hidden] { display: none; }` but bootstrap.min.css set `[hidden] { display: none !important; }` so we also need the `!important` here to be able to override the default hidden behavior on the sphinx rendered scikit-learn.org. See: https://github.com/scikit-learn/scikit-learn/issues/21755 */display: inline-block !important;position: relative;}#sk-container-id-3 div.sk-text-repr-fallback {display: none;}</style><div id=\"sk-container-id-3\" class=\"sk-top-container\"><div class=\"sk-text-repr-fallback\"><pre>KNeighborsClassifier(algorithm=&#x27;brute&#x27;, n_neighbors=10)</pre><b>In a Jupyter environment, please rerun this cell to show the HTML representation or trust the notebook. <br />On GitHub, the HTML representation is unable to render, please try loading this page with nbviewer.org.</b></div><div class=\"sk-container\" hidden><div class=\"sk-item\"><div class=\"sk-estimator sk-toggleable\"><input class=\"sk-toggleable__control sk-hidden--visually\" id=\"sk-estimator-id-3\" type=\"checkbox\" checked><label for=\"sk-estimator-id-3\" class=\"sk-toggleable__label sk-toggleable__label-arrow\">KNeighborsClassifier</label><div class=\"sk-toggleable__content\"><pre>KNeighborsClassifier(algorithm=&#x27;brute&#x27;, n_neighbors=10)</pre></div></div></div></div></div>"
      ],
      "text/plain": [
       "KNeighborsClassifier(algorithm='brute', n_neighbors=10)"
      ]
     },
     "execution_count": 52,
     "metadata": {},
     "output_type": "execute_result"
    }
   ],
   "source": [
    "knn = KNeighborsClassifier(n_neighbors = 10, weights = 'uniform',algorithm = 'brute',metric = 'minkowski')\n",
    "knn.fit(X_train, y_train)"
   ]
  },
  {
   "cell_type": "code",
   "execution_count": 53,
   "id": "a4c92ca4",
   "metadata": {},
   "outputs": [],
   "source": [
    "y_hat = knn.predict(X_train)\n",
    "y_knn = knn.predict(X_test)"
   ]
  },
  {
   "cell_type": "code",
   "execution_count": 54,
   "id": "7f6e5006",
   "metadata": {},
   "outputs": [
    {
     "name": "stdout",
     "output_type": "stream",
     "text": [
      "Training set accuracy:  0.9593035714285715\n",
      "Test set accuracy:  0.9483928571428571\n"
     ]
    }
   ],
   "source": [
    "import sklearn.metrics as metrics\n",
    "print('Training set accuracy: ', metrics.accuracy_score(y_train, y_hat))\n",
    "print('Test set accuracy: ',metrics.accuracy_score(y_test, y_knn))"
   ]
  },
  {
   "cell_type": "code",
   "execution_count": null,
   "id": "ceb9d9c0",
   "metadata": {},
   "outputs": [],
   "source": []
  }
 ],
 "metadata": {
  "kernelspec": {
   "display_name": "Python 3 (ipykernel)",
   "language": "python",
   "name": "python3"
  },
  "language_info": {
   "codemirror_mode": {
    "name": "ipython",
    "version": 3
   },
   "file_extension": ".py",
   "mimetype": "text/x-python",
   "name": "python",
   "nbconvert_exporter": "python",
   "pygments_lexer": "ipython3",
   "version": "3.11.2"
  }
 },
 "nbformat": 4,
 "nbformat_minor": 5
}
